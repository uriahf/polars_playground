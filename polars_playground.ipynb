{
 "cells": [
  {
   "cell_type": "code",
   "execution_count": 4,
   "id": "b9a8359b",
   "metadata": {},
   "outputs": [
    {
     "data": {
      "text/html": [
       "<div><style>\n",
       ".dataframe > thead > tr,\n",
       ".dataframe > tbody > tr {\n",
       "  text-align: right;\n",
       "  white-space: pre-wrap;\n",
       "}\n",
       "</style>\n",
       "<small>shape: (3,)</small><table border=\"1\" class=\"dataframe\"><thead><tr><th>sales</th></tr><tr><td>f64</td></tr></thead><tbody><tr><td>150.0</td></tr><tr><td>300.0</td></tr><tr><td>250.0</td></tr></tbody></table></div>"
      ],
      "text/plain": [
       "shape: (3,)\n",
       "Series: 'sales' [f64]\n",
       "[\n",
       "\t150.0\n",
       "\t300.0\n",
       "\t250.0\n",
       "]"
      ]
     },
     "execution_count": 4,
     "metadata": {},
     "output_type": "execute_result"
    }
   ],
   "source": [
    "import polars as pl\n",
    "\n",
    "sales_series = pl.Series(\"sales\", [150.00, 300.00, 250.00])\n",
    "sales_series"
   ]
  },
  {
   "cell_type": "markdown",
   "id": "35f3fa7a",
   "metadata": {},
   "source": [
    "## Cast python list to polars enum series"
   ]
  },
  {
   "cell_type": "code",
   "execution_count": null,
   "id": "a1d3a6da",
   "metadata": {},
   "outputs": [],
   "source": [
    "reals_labels = [\"real_negatives\", \"real_positives\", \"real_competing\", \"real_censored\"]\n",
    "reals_enum = pl.Enum(reals_labels)\n",
    "reals = pl.Series(reals_labels, dtype=reals_enum)\n",
    "\n",
    "pl.DataFrame(combinations, schema=[\n",
    "        \"reference_group\",               # str\n",
    "        \"fixed_time_horizon\",           # cast to Float64\n",
    "        \"reals\",                        # cast to String (for join)\n",
    "        \"censoring_assumption\",         # str\n",
    "        \"competing_assumption\"          # str\n",
    "    ]).with_columns([\n",
    "        pl.col(\"fixed_time_horizon\").cast(pl.Float64),\n",
    "        pl.col(\"reals\"),\n",
    "        pl.col(\"censoring_assumption\").cast(pl.String),\n",
    "        pl.col(\"competing_assumption\").cast(pl.String),\n",
    "        pl.col(\"reference_group\").cast(pl.String)\n",
    "    ])"
   ]
  }
 ],
 "metadata": {
  "kernelspec": {
   "display_name": ".venv",
   "language": "python",
   "name": "python3"
  },
  "language_info": {
   "codemirror_mode": {
    "name": "ipython",
    "version": 3
   },
   "file_extension": ".py",
   "mimetype": "text/x-python",
   "name": "python",
   "nbconvert_exporter": "python",
   "pygments_lexer": "ipython3",
   "version": "3.13.2"
  }
 },
 "nbformat": 4,
 "nbformat_minor": 5
}
