{
 "cells": [
  {
   "cell_type": "code",
   "execution_count": 4,
   "id": "b9a8359b",
   "metadata": {},
   "outputs": [
    {
     "data": {
      "text/html": [
       "<div><style>\n",
       ".dataframe > thead > tr,\n",
       ".dataframe > tbody > tr {\n",
       "  text-align: right;\n",
       "  white-space: pre-wrap;\n",
       "}\n",
       "</style>\n",
       "<small>shape: (3,)</small><table border=\"1\" class=\"dataframe\"><thead><tr><th>sales</th></tr><tr><td>f64</td></tr></thead><tbody><tr><td>150.0</td></tr><tr><td>300.0</td></tr><tr><td>250.0</td></tr></tbody></table></div>"
      ],
      "text/plain": [
       "shape: (3,)\n",
       "Series: 'sales' [f64]\n",
       "[\n",
       "\t150.0\n",
       "\t300.0\n",
       "\t250.0\n",
       "]"
      ]
     },
     "execution_count": 4,
     "metadata": {},
     "output_type": "execute_result"
    }
   ],
   "source": [
    "import polars as pl\n",
    "\n",
    "sales_series = pl.Series(\"sales\", [150.00, 300.00, 250.00])\n",
    "sales_series"
   ]
  },
  {
   "cell_type": "markdown",
   "id": "35f3fa7a",
   "metadata": {},
   "source": [
    "## Cast python list to polars enum series"
   ]
  },
  {
   "cell_type": "code",
   "execution_count": 22,
   "id": "a1d3a6da",
   "metadata": {},
   "outputs": [
    {
     "name": "stdout",
     "output_type": "stream",
     "text": [
      "shape: (24, 3)\n",
      "┌────────────────┬──────────────────────┬──────────────────────┐\n",
      "│ reals          ┆ censoring_assumption ┆ competing_assumption │\n",
      "│ ---            ┆ ---                  ┆ ---                  │\n",
      "│ enum           ┆ enum                 ┆ enum                 │\n",
      "╞════════════════╪══════════════════════╪══════════════════════╡\n",
      "│ real_negatives ┆ excluded             ┆ excluded             │\n",
      "│ real_negatives ┆ excluded             ┆ adjusted_as_negative │\n",
      "│ real_negatives ┆ excluded             ┆ adjusted_as_censored │\n",
      "│ real_negatives ┆ adjusted             ┆ excluded             │\n",
      "│ real_negatives ┆ adjusted             ┆ adjusted_as_negative │\n",
      "│ …              ┆ …                    ┆ …                    │\n",
      "│ real_censored  ┆ excluded             ┆ adjusted_as_negative │\n",
      "│ real_censored  ┆ excluded             ┆ adjusted_as_censored │\n",
      "│ real_censored  ┆ adjusted             ┆ excluded             │\n",
      "│ real_censored  ┆ adjusted             ┆ adjusted_as_negative │\n",
      "│ real_censored  ┆ adjusted             ┆ adjusted_as_censored │\n",
      "└────────────────┴──────────────────────┴──────────────────────┘\n"
     ]
    }
   ],
   "source": [
    "reals_labels = [\"real_negatives\", \"real_positives\", \"real_competing\", \"real_censored\"]\n",
    "censoring_assumption_labels = [\"excluded\", \"adjusted\"]\n",
    "competing_assumption_labels = [\"excluded\", \"adjusted_as_negative\", \"adjusted_as_censored\"]\n",
    "\n",
    "reals_enum = pl.Enum(reals_labels)\n",
    "censoring_assumption_enum = pl.Enum(censoring_assumption_labels)\n",
    "competing_assumption_enum = pl.Enum(competing_assumption_labels)\n",
    "\n",
    "df_reals = pl.DataFrame({\"reals\": pl.Series(reals_labels, dtype=reals_enum)})\n",
    "df_censoring_assumption = pl.DataFrame({\"censoring_assumption\": pl.Series(censoring_assumption_labels, dtype=censoring_assumption_enum)})\n",
    "df_competing_assumption = pl.DataFrame({\"competing_assumption\": pl.Series(competing_assumption_labels, dtype=competing_assumption_enum)})\n",
    "\n",
    "\n",
    "aj_data_combinations = (\n",
    "    df_reals\n",
    "    .join(df_censoring_assumption, how=\"cross\")\n",
    "    .join(df_competing_assumption, how=\"cross\")\n",
    ")\n",
    "\n",
    "print(aj_data_combinations)"
   ]
  },
  {
   "cell_type": "markdown",
   "id": "dd7e799a",
   "metadata": {},
   "source": [
    "## Map numerics to Enums"
   ]
  },
  {
   "cell_type": "code",
   "execution_count": null,
   "id": "17c4edbe",
   "metadata": {},
   "outputs": [
    {
     "data": {
      "text/html": [
       "<div><style>\n",
       ".dataframe > thead > tr,\n",
       ".dataframe > tbody > tr {\n",
       "  text-align: right;\n",
       "  white-space: pre-wrap;\n",
       "}\n",
       "</style>\n",
       "<small>shape: (5, 2)</small><table border=\"1\" class=\"dataframe\"><thead><tr><th>country_code</th><th>remapped</th></tr><tr><td>i64</td><td>enum</td></tr></thead><tbody><tr><td>0</td><td>&quot;real_negatives&quot;</td></tr><tr><td>0</td><td>&quot;real_negatives&quot;</td></tr><tr><td>1</td><td>&quot;real_positives&quot;</td></tr><tr><td>2</td><td>&quot;real_competing&quot;</td></tr><tr><td>1</td><td>&quot;real_positives&quot;</td></tr></tbody></table></div>"
      ],
      "text/plain": [
       "shape: (5, 2)\n",
       "┌──────────────┬────────────────┐\n",
       "│ country_code ┆ remapped       │\n",
       "│ ---          ┆ ---            │\n",
       "│ i64          ┆ enum           │\n",
       "╞══════════════╪════════════════╡\n",
       "│ 0            ┆ real_negatives │\n",
       "│ 0            ┆ real_negatives │\n",
       "│ 1            ┆ real_positives │\n",
       "│ 2            ┆ real_competing │\n",
       "│ 1            ┆ real_positives │\n",
       "└──────────────┴────────────────┘"
      ]
     },
     "execution_count": 41,
     "metadata": {},
     "output_type": "execute_result"
    }
   ],
   "source": [
    "reals_map = {\n",
    "    0: \"real_negatives\",\n",
    "    1: \"real_positives\",\n",
    "    2: \"real_competing\"\n",
    "}\n",
    "\n",
    "df = pl.DataFrame(\n",
    "    {\n",
    "        \"country_code\": [0, 0, 1, 2, 1],\n",
    "    }\n",
    ")\n",
    "\n",
    "df\n",
    "\n",
    "\n",
    "df.with_columns(\n",
    "    pl.col(\"country_code\").replace_strict(country_code_dict, return_dtype=reals_enum).alias(\"remapped\")\n",
    ")"
   ]
  }
 ],
 "metadata": {
  "kernelspec": {
   "display_name": ".venv",
   "language": "python",
   "name": "python3"
  },
  "language_info": {
   "codemirror_mode": {
    "name": "ipython",
    "version": 3
   },
   "file_extension": ".py",
   "mimetype": "text/x-python",
   "name": "python",
   "nbconvert_exporter": "python",
   "pygments_lexer": "ipython3",
   "version": "3.13.2"
  }
 },
 "nbformat": 4,
 "nbformat_minor": 5
}
